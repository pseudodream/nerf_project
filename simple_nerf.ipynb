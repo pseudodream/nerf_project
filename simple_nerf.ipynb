{
  "cells": [
    {
      "cell_type": "code",
      "execution_count": 2,
      "metadata": {
        "colab": {
          "base_uri": "https://localhost:8080/"
        },
        "id": "iE9MrEIp9acd",
        "outputId": "dfeca9d7-cb51-469e-f38c-83aae72a9c6f"
      },
      "outputs": [
        {
          "name": "stdout",
          "output_type": "stream",
          "text": [
            "--2024-05-04 17:38:34--  https://github.com/airalcorn2/pytorch-nerf/blob/master/66bdbc812bd0a196e194052f3f12cb2e.npz?raw=True\n",
            "Resolving github.com (github.com)... 140.82.113.4\n",
            "Connecting to github.com (github.com)|140.82.113.4|:443... connected.\n",
            "HTTP request sent, awaiting response... 302 Found\n",
            "Location: https://github.com/airalcorn2/pytorch-nerf/raw/master/66bdbc812bd0a196e194052f3f12cb2e.npz [following]\n",
            "--2024-05-04 17:38:35--  https://github.com/airalcorn2/pytorch-nerf/raw/master/66bdbc812bd0a196e194052f3f12cb2e.npz\n",
            "Reusing existing connection to github.com:443.\n",
            "HTTP request sent, awaiting response... 302 Found\n",
            "Location: https://raw.githubusercontent.com/airalcorn2/pytorch-nerf/master/66bdbc812bd0a196e194052f3f12cb2e.npz [following]\n",
            "--2024-05-04 17:38:35--  https://raw.githubusercontent.com/airalcorn2/pytorch-nerf/master/66bdbc812bd0a196e194052f3f12cb2e.npz\n",
            "Resolving raw.githubusercontent.com (raw.githubusercontent.com)... 185.199.108.133, 185.199.109.133, 185.199.110.133, ...\n",
            "Connecting to raw.githubusercontent.com (raw.githubusercontent.com)|185.199.108.133|:443... connected.\n",
            "HTTP request sent, awaiting response... 200 OK\n",
            "Length: 24103428 (23M) [application/octet-stream]\n",
            "Saving to: ‘data.npz’\n",
            "\n",
            "data.npz            100%[===================>]  22.99M  --.-KB/s    in 0.1s    \n",
            "\n",
            "2024-05-04 17:38:35 (222 MB/s) - ‘data.npz’ saved [24103428/24103428]\n",
            "\n"
          ]
        }
      ],
      "source": [
        "#use the shadowcar dataset to accelerate training process\n",
        "!wget \"https://github.com/pseudodream/nerf_project/blob/main/simple_data.npz?raw=True\" -O data.npz\n",
        "\n",
        "import matplotlib.pyplot as plt\n",
        "import numpy as np\n",
        "import torch\n",
        "from torch import nn, optim"
      ]
    },
    {
      "cell_type": "code",
      "execution_count": 2,
      "metadata": {},
      "outputs": [
        {
          "name": "stdout",
          "output_type": "stream",
          "text": [
            "zsh:1: command not found: wget\n"
          ]
        }
      ],
      "source": [
        "!wget \"https://github.com/pseudodream/nerf_project/blob/main/simple_data.npz?raw=True\" -O data.npz"
      ]
    },
    {
      "cell_type": "code",
      "execution_count": 8,
      "metadata": {
        "id": "lYJEOcPH76zQ"
      },
      "outputs": [],
      "source": [
        "\n",
        "\n",
        "\n",
        "#get the points along the ray using ray directions (ray_dir),ray origins (ray_origin),\n",
        "def get_coarse_query_points(ray_dir, N_c, t_i_c_bin_edges, t_i_c_gap, ray_origin):\n",
        "    u_is_c = torch.rand(*list(ray_dir.shape[:2]) + [N_c]).to(ray_dir)\n",
        "\n",
        "    t_is_c = t_i_c_bin_edges + u_is_c * t_i_c_gap\n",
        "    r_ts_c = ray_origin[..., None, :] + t_is_c[..., :, None] * ray_dir[..., None, :]\n",
        "    return (r_ts_c, t_is_c)\n",
        "\n",
        "\n",
        "#get fine query points from ray directions (ray_dir),ray origins (ray_origin), sampled depths (t_is_c)\n",
        "def get_fine_query_points(w_is_c, N_f, t_is_c, t_f, ray_origin, ray_dir):\n",
        "\n",
        "    # Define PDFs (pdfs) and CDFs (cdfs) from weights (w_is_c).\n",
        "    w_is_c = w_is_c + 1e-5\n",
        "    pdfs = w_is_c / torch.sum(w_is_c, dim=-1, keepdim=True)\n",
        "    cdfs = torch.cumsum(pdfs, dim=-1)\n",
        "    cdfs = torch.cat([torch.zeros_like(cdfs[..., :1]), cdfs[..., :-1]], dim=-1)\n",
        "\n",
        "    # Get uniform samples (us).\n",
        "    us = torch.rand(list(cdfs.shape[:-1]) + [N_f]).to(w_is_c)\n",
        "\n",
        "    # Use inverse inverse transform sampling to sample the depths (t_is_f).\n",
        "    idxs = torch.searchsorted(cdfs, us, right=True)\n",
        "    t_i_f_bottom_edges = torch.gather(t_is_c, 2, idxs - 1)\n",
        "    idxs_capped = idxs.clone()\n",
        "    max_ind = cdfs.shape[-1]\n",
        "    idxs_capped[idxs_capped == max_ind] = max_ind - 1\n",
        "    t_i_f_top_edges = torch.gather(t_is_c, 2, idxs_capped)\n",
        "    t_i_f_top_edges[idxs == max_ind] = t_f\n",
        "    t_i_f_gaps = t_i_f_top_edges - t_i_f_bottom_edges\n",
        "    u_is_f = torch.rand_like(t_i_f_gaps).to(ray_origin)\n",
        "    t_is_f = t_i_f_bottom_edges + u_is_f * t_i_f_gaps\n",
        "\n",
        "    # Combine the coarse (t_is_c) and fine (t_is_f) depths and sort them.\n",
        "    (t_is_f, _) = torch.sort(torch.cat([t_is_c, t_is_f.detach()], dim=-1), dim=-1)\n",
        "    r_ts_f = ray_origin[..., None, :] + t_is_f[..., :, None] * ray_dir[..., None, :]\n",
        "    return (r_ts_f, t_is_f)\n",
        "\n",
        "#radiance volume rendering to get color abd weights\n",
        "def render_radiance_volume(r_ts, ray_dir, chunk_size, F, t_is):\n",
        "\n",
        "    r_ts_flat = r_ts.reshape((-1, 3))\n",
        "    ray_dir_rep = ray_dir.unsqueeze(2).repeat(1, 1, r_ts.shape[-2], 1)\n",
        "    ray_dir_flat = ray_dir_rep.reshape((-1, 3))\n",
        "    c_is = []\n",
        "    sigma_is = []\n",
        "    for chunk_start in range(0, r_ts_flat.shape[0], chunk_size):\n",
        "        r_ts_batch = r_ts_flat[chunk_start : chunk_start + chunk_size]\n",
        "        ray_dir_batch = ray_dir_flat[chunk_start : chunk_start + chunk_size]\n",
        "        preds = F(r_ts_batch, ray_dir_batch)\n",
        "        c_is.append(preds[\"c_is\"])\n",
        "        sigma_is.append(preds[\"sigma_is\"])\n",
        "\n",
        "    c_is = torch.cat(c_is).reshape(r_ts.shape)\n",
        "    sigma_is = torch.cat(sigma_is).reshape(r_ts.shape[:-1])\n",
        "\n",
        "\n",
        "    delta_is = t_is[..., 1:] - t_is[..., :-1]\n",
        "\n",
        "    one_e_10 = torch.Tensor([1e10]).expand(delta_is[..., :1].shape)\n",
        "    delta_is = torch.cat([delta_is, one_e_10.to(delta_is)], dim=-1)\n",
        "    delta_is = delta_is * ray_dir.norm(dim=-1).unsqueeze(-1)\n",
        "\n",
        "    # Calculate the alphas (alpha_is) of the 3D points using the volume densities\n",
        "    alpha_is = 1.0 - torch.exp(-sigma_is * delta_is)\n",
        "\n",
        "    T_is = torch.cumprod(1.0 - alpha_is + 1e-10, -1)\n",
        "    T_is = torch.roll(T_is, 1, -1)\n",
        "    T_is[..., 0] = 1.0\n",
        "\n",
        "    # Calculate the weights (w_is) for the colors (c_is) along the rays using the\n",
        "    # transmittances (T_is) and alphas (alpha_is). See Equation (5) in Section 5.2:\n",
        "    # w_i = T_i * (1 - exp(-sigma_i * delta_i)).\n",
        "    w_is = T_is * alpha_is\n",
        "\n",
        "    # Calculate the pixel colors (C_rs) for the rays as weighted (w_is) sums of colors\n",
        "    C_rs = (w_is[..., None] * c_is).sum(dim=-2)\n",
        "\n",
        "    return (C_rs, w_is)\n",
        "\n",
        "\n",
        "def run_nerf(\n",
        "    ray_dir, N_c, t_i_c_bin_edges, t_i_c_gap, ray_origin, chunk_size, F_c, N_f, t_f, F_f\n",
        "):\n",
        "    (r_ts_c, t_is_c) = get_coarse_query_points(ray_dir, N_c, t_i_c_bin_edges, t_i_c_gap, ray_origin)\n",
        "    (C_rs_c, w_is_c) = render_radiance_volume(r_ts_c, ray_dir, chunk_size, F_c, t_is_c)\n",
        "\n",
        "    (r_ts_f, t_is_f) = get_fine_query_points(w_is_c, N_f, t_is_c, t_f, ray_origin, ray_dir)\n",
        "    (C_rs_f, _) = render_radiance_volume(r_ts_f, ray_dir, chunk_size, F_f, t_is_f)\n",
        "\n",
        "    return (C_rs_c, C_rs_f)\n",
        "\n",
        "\n",
        "class MLP(nn.Module):\n",
        "    def __init__(self):\n",
        "        super().__init__()\n",
        "        # 10 encoding functions for positions\n",
        "        self.L_pos = 10\n",
        "        # 4 encoding functions for viewing directions\n",
        "        self.L_dir = 4\n",
        "        pos_enc_feats = 3 + 3 * 2 * self.L_pos\n",
        "        dir_enc_feats = 3 + 3 * 2 * self.L_dir\n",
        "\n",
        "        in_feats = pos_enc_feats\n",
        "        net_width = 256\n",
        "        #pos_mlp: mlp that takes pos encoding, it outputs density\n",
        "        pos_mlp_layers = 5\n",
        "        pos_mlp = []\n",
        "\n",
        "        for layer_idx in range(pos_mlp_layers):\n",
        "            pos_mlp.append(nn.Linear(in_feats, net_width))\n",
        "            pos_mlp.append(nn.ReLU())\n",
        "            in_feats = net_width\n",
        "\n",
        "        self.pos_mlp = nn.Sequential(*pos_mlp)\n",
        "\n",
        "        in_feats = pos_enc_feats + net_width\n",
        "        #dir_mlp: mlp that take output pos_mlp + dir encoding, it outputs color RGB\n",
        "        dir_mlp_layers = 3\n",
        "        dir_mlp = []\n",
        "        for layer_idx in range(dir_mlp_layers):\n",
        "            dir_mlp.append(nn.Linear(in_feats, net_width))\n",
        "            dir_mlp.append(nn.ReLU())\n",
        "            in_feats = net_width\n",
        "\n",
        "        self.dir_mlp = nn.Sequential(*dir_mlp)\n",
        "        self.sigma_layer = nn.Linear(net_width, net_width + 1)\n",
        "        self.concat_layer = nn.Sequential(\n",
        "            nn.Linear(dir_enc_feats + net_width, net_width // 2), nn.ReLU()\n",
        "        )\n",
        "        self.color_layer = nn.Sequential(nn.Linear(net_width // 2, 3), nn.Sigmoid())\n",
        "\n",
        "    def forward(self, xs, ray_dir):\n",
        "        xs_encoded = [xs]\n",
        "        for l_pos in range(self.L_pos):\n",
        "            xs_encoded.append(torch.sin(2 ** l_pos * torch.pi * xs))\n",
        "            xs_encoded.append(torch.cos(2 ** l_pos * torch.pi * xs))\n",
        "\n",
        "        xs_encoded = torch.cat(xs_encoded, dim=-1)\n",
        "\n",
        "        ray_dir = ray_dir / ray_dir.norm(p=2, dim=-1).unsqueeze(-1)\n",
        "        ray_dir_encoded = [ray_dir]\n",
        "        for l_dir in range(self.L_dir):\n",
        "            ray_dir_encoded.append(torch.sin(2 ** l_dir * torch.pi * ray_dir))\n",
        "            ray_dir_encoded.append(torch.cos(2 ** l_dir * torch.pi * ray_dir))\n",
        "\n",
        "        ray_dir_encoded = torch.cat(ray_dir_encoded, dim=-1)\n",
        "\n",
        "        outputs = self.pos_mlp(xs_encoded)\n",
        "        outputs = self.dir_mlp(torch.cat([xs_encoded, outputs], dim=-1))\n",
        "        outputs = self.sigma_layer(outputs)\n",
        "        sigma_is = torch.relu(outputs[:, 0])\n",
        "        outputs = self.concat_layer(torch.cat([ray_dir_encoded, outputs[:, 1:]], dim=-1))\n",
        "        c_is = self.color_layer(outputs)\n",
        "        return {\"c_is\": c_is, \"sigma_is\": sigma_is}"
      ]
    },
    {
      "cell_type": "code",
      "execution_count": null,
      "metadata": {
        "colab": {
          "base_uri": "https://localhost:8080/"
        },
        "id": "q4JWRFg2BLcw",
        "outputId": "eda8070b-51f5-4e5e-fffa-f7f2411e6d48"
      },
      "outputs": [
        {
          "data": {
            "text/plain": [
              "NpzFile '66bdbc812bd0a196e194052f3f12cb2e.npz' with keys: images, poses, focal, camera_distance"
            ]
          },
          "execution_count": 22,
          "metadata": {},
          "output_type": "execute_result"
        }
      ],
      "source": []
    },
    {
      "cell_type": "code",
      "execution_count": 9,
      "metadata": {
        "colab": {
          "base_uri": "https://localhost:8080/",
          "height": 987
        },
        "id": "x2MBw-kt9LGK",
        "outputId": "6628e543-f054-438c-a73b-511cc8868441"
      },
      "outputs": [
        {
          "data": {
            "image/png": "[encoded data removed]",
            "text/plain": [
              "<Figure size 640x480 with 1 Axes>"
            ]
          },
          "metadata": {},
          "output_type": "display_data"
        },
        {
          "data": {
            "text/plain": [
              "MLP(\n",
              "  (pos_mlp): Sequential(\n",
              "    (0): Linear(in_features=63, out_features=256, bias=True)\n",
              "    (1): ReLU()\n",
              "    (2): Linear(in_features=256, out_features=256, bias=True)\n",
              "    (3): ReLU()\n",
              "    (4): Linear(in_features=256, out_features=256, bias=True)\n",
              "    (5): ReLU()\n",
              "    (6): Linear(in_features=256, out_features=256, bias=True)\n",
              "    (7): ReLU()\n",
              "    (8): Linear(in_features=256, out_features=256, bias=True)\n",
              "    (9): ReLU()\n",
              "  )\n",
              "  (dir_mlp): Sequential(\n",
              "    (0): Linear(in_features=319, out_features=256, bias=True)\n",
              "    (1): ReLU()\n",
              "    (2): Linear(in_features=256, out_features=256, bias=True)\n",
              "    (3): ReLU()\n",
              "    (4): Linear(in_features=256, out_features=256, bias=True)\n",
              "    (5): ReLU()\n",
              "  )\n",
              "  (sigma_layer): Linear(in_features=256, out_features=257, bias=True)\n",
              "  (concat_layer): Sequential(\n",
              "    (0): Linear(in_features=283, out_features=128, bias=True)\n",
              "    (1): ReLU()\n",
              "  )\n",
              "  (color_layer): Sequential(\n",
              "    (0): Linear(in_features=128, out_features=3, bias=True)\n",
              "    (1): Sigmoid()\n",
              "  )\n",
              ")"
            ]
          },
          "execution_count": 9,
          "metadata": {},
          "output_type": "execute_result"
        }
      ],
      "source": [
        "seed = 42\n",
        "torch.manual_seed(seed)\n",
        "np.random.seed(seed)\n",
        "\n",
        "# Initialize coarse and fine MLPs.\n",
        "device = \"cuda:0\"\n",
        "F_c = MLP().to(device)\n",
        "F_f = MLP().to(device)\n",
        "chunk_size = 1024 * 32\n",
        "batch_img_size = 64\n",
        "n_batch_pix = batch_img_size ** 2\n",
        "\n",
        "# Initialize optimizer. See Section 5.3.\n",
        "lr = 5e-4\n",
        "optimizer = optim.Adam(list(F_c.parameters()) + list(F_f.parameters()), lr=lr)\n",
        "criterion = nn.MSELoss()\n",
        "lrate_decay = 250\n",
        "decay_steps = lrate_decay * 1000\n",
        "decay_rate = 0.1\n",
        "\n",
        "data = np.load(\"data.npz\")\n",
        "\n",
        "images = data[\"images\"] / 255\n",
        "img_size = images.shape[1]\n",
        "xs = torch.arange(img_size) - (img_size / 2 - 0.5)\n",
        "ys = torch.arange(img_size) - (img_size / 2 - 0.5)\n",
        "(xs, ys) = torch.meshgrid(xs, -ys, indexing=\"xy\")\n",
        "focal = float(data[\"focal\"])\n",
        "pixel_coords = torch.stack([xs, ys, torch.full_like(xs, -focal)], dim=-1)\n",
        "\n",
        "camera_coords = pixel_coords / focal\n",
        "init_ray_dir = camera_coords.to(device)\n",
        "init_o = torch.Tensor(np.array([0, 0, float(data[\"camera_distance\"])])).to(device)\n",
        "\n",
        "\n",
        "test_idx = 150\n",
        "plt.imshow(images[test_idx])\n",
        "plt.show()\n",
        "test_img = torch.Tensor(images[test_idx]).to(device)\n",
        "poses = data[\"poses\"]\n",
        "test_R = torch.Tensor(poses[test_idx, :3, :3]).to(device)\n",
        "test_ray_dir = torch.einsum(\"ij,hwj->hwi\", test_R, init_ray_dir)\n",
        "test_ray_origin = (test_R @ init_o).expand(test_ray_dir.shape)\n",
        "\n",
        "# Initialize volume rendering hyperparameters.\n",
        "# Near bound.\n",
        "t_n = 1.0\n",
        "# Far bound.\n",
        "t_f = 4.0\n",
        "# Number of coarse samples along a ray. See Section 5.3.\n",
        "N_c = 64\n",
        "# Number of fine samples along a ray. See Section 5.3.\n",
        "N_f = 128\n",
        "# Bins used to sample depths along a ray. See Equation (2) in Section 4.\n",
        "t_i_c_gap = (t_f - t_n) / N_c\n",
        "t_i_c_bin_edges = (t_n + torch.arange(N_c) * t_i_c_gap).to(device)\n",
        "\n",
        "# Start training model.\n",
        "train_idxs = np.arange(len(images)) != test_idx\n",
        "images = torch.Tensor(images[train_idxs])\n",
        "poses = torch.Tensor(poses[train_idxs])\n",
        "n_pix = img_size ** 2\n",
        "pixel_ps = torch.full((n_pix,), 1 / n_pix).to(device)\n",
        "psnrs = []\n",
        "iternums = []\n",
        "# See Section 5.3.\n",
        "num_iters = 100000\n",
        "display_every = 100\n",
        "F_c.train()\n",
        "F_f.train()"
      ]
    },
    {
      "cell_type": "code",
      "execution_count": null,
      "metadata": {
        "id": "QL5ewVKG9Ob4"
      },
      "outputs": [],
      "source": [
        "!nvidia-smi"
      ]
    },
    {
      "cell_type": "code",
      "execution_count": 5,
      "metadata": {
        "colab": {
          "base_uri": "https://localhost:8080/",
          "height": 756
        },
        "id": "XbCcDAZn9O_p",
        "outputId": "ef08a17c-fcbb-4ac0-dc94-1002045bd35b"
      },
      "outputs": [
        {
          "name": "stdout",
          "output_type": "stream",
          "text": [
            "Loss: 0.050102993845939636\n"
          ]
        },
        {
          "data": {
            "image/png": "[encoded data removed]",
            "text/plain": [
              "<Figure size 1000x400 with 2 Axes>"
            ]
          },
          "metadata": {},
          "output_type": "display_data"
        },
        {
          "ename": "KeyboardInterrupt",
          "evalue": "",
          "output_type": "error",
          "traceback": [
            "\u001b[0;31m---------------------------------------------------------------------------\u001b[0m",
            "\u001b[0;31mKeyboardInterrupt\u001b[0m                         Traceback (most recent call last)",
            "\u001b[0;32m<ipython-input-5-067d4a33771c>\u001b[0m in \u001b[0;36m<cell line: 1>\u001b[0;34m()\u001b[0m\n\u001b[1;32m     21\u001b[0m \u001b[0;34m\u001b[0m\u001b[0m\n\u001b[1;32m     22\u001b[0m     \u001b[0;31m# Run NeRF.\u001b[0m\u001b[0;34m\u001b[0m\u001b[0;34m\u001b[0m\u001b[0m\n\u001b[0;32m---> 23\u001b[0;31m     (C_rs_c, C_rs_f) = run_nerf(\n\u001b[0m\u001b[1;32m     24\u001b[0m         \u001b[0mray_dir_batch\u001b[0m\u001b[0;34m,\u001b[0m\u001b[0;34m\u001b[0m\u001b[0;34m\u001b[0m\u001b[0m\n\u001b[1;32m     25\u001b[0m         \u001b[0mN_c\u001b[0m\u001b[0;34m,\u001b[0m\u001b[0;34m\u001b[0m\u001b[0;34m\u001b[0m\u001b[0m\n",
            "\u001b[0;32m<ipython-input-3-9db7798b3bf2>\u001b[0m in \u001b[0;36mrun_nerf\u001b[0;34m(ray_dir, N_c, t_i_c_bin_edges, t_i_c_gap, ray_origin, chunk_size, F_c, N_f, t_f, F_f)\u001b[0m\n\u001b[1;32m     87\u001b[0m \u001b[0;34m\u001b[0m\u001b[0m\n\u001b[1;32m     88\u001b[0m     \u001b[0;34m(\u001b[0m\u001b[0mr_ts_f\u001b[0m\u001b[0;34m,\u001b[0m \u001b[0mt_is_f\u001b[0m\u001b[0;34m)\u001b[0m \u001b[0;34m=\u001b[0m \u001b[0mget_fine_query_points\u001b[0m\u001b[0;34m(\u001b[0m\u001b[0mw_is_c\u001b[0m\u001b[0;34m,\u001b[0m \u001b[0mN_f\u001b[0m\u001b[0;34m,\u001b[0m \u001b[0mt_is_c\u001b[0m\u001b[0;34m,\u001b[0m \u001b[0mt_f\u001b[0m\u001b[0;34m,\u001b[0m \u001b[0mray_origin\u001b[0m\u001b[0;34m,\u001b[0m \u001b[0mray_dir\u001b[0m\u001b[0;34m)\u001b[0m\u001b[0;34m\u001b[0m\u001b[0;34m\u001b[0m\u001b[0m\n\u001b[0;32m---> 89\u001b[0;31m     \u001b[0;34m(\u001b[0m\u001b[0mC_rs_f\u001b[0m\u001b[0;34m,\u001b[0m \u001b[0m_\u001b[0m\u001b[0;34m)\u001b[0m \u001b[0;34m=\u001b[0m \u001b[0mrender_radiance_volume\u001b[0m\u001b[0;34m(\u001b[0m\u001b[0mr_ts_f\u001b[0m\u001b[0;34m,\u001b[0m \u001b[0mray_dir\u001b[0m\u001b[0;34m,\u001b[0m \u001b[0mchunk_size\u001b[0m\u001b[0;34m,\u001b[0m \u001b[0mF_f\u001b[0m\u001b[0;34m,\u001b[0m \u001b[0mt_is_f\u001b[0m\u001b[0;34m)\u001b[0m\u001b[0;34m\u001b[0m\u001b[0;34m\u001b[0m\u001b[0m\n\u001b[0m\u001b[1;32m     90\u001b[0m \u001b[0;34m\u001b[0m\u001b[0m\n\u001b[1;32m     91\u001b[0m     \u001b[0;32mreturn\u001b[0m \u001b[0;34m(\u001b[0m\u001b[0mC_rs_c\u001b[0m\u001b[0;34m,\u001b[0m \u001b[0mC_rs_f\u001b[0m\u001b[0;34m)\u001b[0m\u001b[0;34m\u001b[0m\u001b[0;34m\u001b[0m\u001b[0m\n",
            "\u001b[0;32m<ipython-input-3-9db7798b3bf2>\u001b[0m in \u001b[0;36mrender_radiance_volume\u001b[0;34m(r_ts, ray_dir, chunk_size, F, t_is)\u001b[0m\n\u001b[1;32m     59\u001b[0m \u001b[0;34m\u001b[0m\u001b[0m\n\u001b[1;32m     60\u001b[0m     \u001b[0mone_e_10\u001b[0m \u001b[0;34m=\u001b[0m \u001b[0mtorch\u001b[0m\u001b[0;34m.\u001b[0m\u001b[0mTensor\u001b[0m\u001b[0;34m(\u001b[0m\u001b[0;34m[\u001b[0m\u001b[0;36m1e10\u001b[0m\u001b[0;34m]\u001b[0m\u001b[0;34m)\u001b[0m\u001b[0;34m.\u001b[0m\u001b[0mexpand\u001b[0m\u001b[0;34m(\u001b[0m\u001b[0mdelta_is\u001b[0m\u001b[0;34m[\u001b[0m\u001b[0;34m...\u001b[0m\u001b[0;34m,\u001b[0m \u001b[0;34m:\u001b[0m\u001b[0;36m1\u001b[0m\u001b[0;34m]\u001b[0m\u001b[0;34m.\u001b[0m\u001b[0mshape\u001b[0m\u001b[0;34m)\u001b[0m\u001b[0;34m\u001b[0m\u001b[0;34m\u001b[0m\u001b[0m\n\u001b[0;32m---> 61\u001b[0;31m     \u001b[0mdelta_is\u001b[0m \u001b[0;34m=\u001b[0m \u001b[0mtorch\u001b[0m\u001b[0;34m.\u001b[0m\u001b[0mcat\u001b[0m\u001b[0;34m(\u001b[0m\u001b[0;34m[\u001b[0m\u001b[0mdelta_is\u001b[0m\u001b[0;34m,\u001b[0m \u001b[0mone_e_10\u001b[0m\u001b[0;34m.\u001b[0m\u001b[0mto\u001b[0m\u001b[0;34m(\u001b[0m\u001b[0mdelta_is\u001b[0m\u001b[0;34m)\u001b[0m\u001b[0;34m]\u001b[0m\u001b[0;34m,\u001b[0m \u001b[0mdim\u001b[0m\u001b[0;34m=\u001b[0m\u001b[0;34m-\u001b[0m\u001b[0;36m1\u001b[0m\u001b[0;34m)\u001b[0m\u001b[0;34m\u001b[0m\u001b[0;34m\u001b[0m\u001b[0m\n\u001b[0m\u001b[1;32m     62\u001b[0m     \u001b[0mdelta_is\u001b[0m \u001b[0;34m=\u001b[0m \u001b[0mdelta_is\u001b[0m \u001b[0;34m*\u001b[0m \u001b[0mray_dir\u001b[0m\u001b[0;34m.\u001b[0m\u001b[0mnorm\u001b[0m\u001b[0;34m(\u001b[0m\u001b[0mdim\u001b[0m\u001b[0;34m=\u001b[0m\u001b[0;34m-\u001b[0m\u001b[0;36m1\u001b[0m\u001b[0;34m)\u001b[0m\u001b[0;34m.\u001b[0m\u001b[0munsqueeze\u001b[0m\u001b[0;34m(\u001b[0m\u001b[0;34m-\u001b[0m\u001b[0;36m1\u001b[0m\u001b[0;34m)\u001b[0m\u001b[0;34m\u001b[0m\u001b[0;34m\u001b[0m\u001b[0m\n\u001b[1;32m     63\u001b[0m \u001b[0;34m\u001b[0m\u001b[0m\n",
            "\u001b[0;31mKeyboardInterrupt\u001b[0m: "
          ]
        }
      ],
      "source": [
        "for i in range(num_iters):\n",
        "\n",
        "    target_img_idx = np.random.randint(images.shape[0])\n",
        "    target_pose = poses[target_img_idx].to(device)\n",
        "    R = target_pose[:3, :3]\n",
        "\n",
        "    # Get rotated ray origins (ray_origin) and ray directions (ray_dir)\n",
        "    ray_dir = torch.einsum(\"ij,hwj->hwi\", R, init_ray_dir)\n",
        "    ray_origin = (R @ init_o).expand(ray_dir.shape)\n",
        "\n",
        "    # Sample a batch of rays.\n",
        "    pix_idxs = pixel_ps.multinomial(n_batch_pix, False)\n",
        "    pix_idx_rows = pix_idxs // img_size\n",
        "    pix_idx_cols = pix_idxs % img_size\n",
        "    ray_dir_batch = ray_dir[pix_idx_rows, pix_idx_cols].reshape(\n",
        "        batch_img_size, batch_img_size, -1\n",
        "    )\n",
        "    ray_origin_batch = ray_origin[pix_idx_rows, pix_idx_cols].reshape(\n",
        "        batch_img_size, batch_img_size, -1\n",
        "    )\n",
        "\n",
        "    # Run NeRF.\n",
        "    (C_rs_c, C_rs_f) = run_nerf(\n",
        "        ray_dir_batch,\n",
        "        N_c,\n",
        "        t_i_c_bin_edges,\n",
        "        t_i_c_gap,\n",
        "        ray_origin_batch,\n",
        "        chunk_size,\n",
        "        F_c,\n",
        "        N_f,\n",
        "        t_f,\n",
        "        F_f,\n",
        "    )\n",
        "    target_img = images[target_img_idx].to(device)\n",
        "    target_img_batch = target_img[pix_idx_rows, pix_idx_cols].reshape(C_rs_f.shape)\n",
        "\n",
        "    loss = criterion(C_rs_c, target_img_batch) + criterion(C_rs_f, target_img_batch)\n",
        "    optimizer.zero_grad()\n",
        "    loss.backward()\n",
        "    optimizer.step()\n",
        "\n",
        "\n",
        "    for g in optimizer.param_groups:\n",
        "        g[\"lr\"] = lr * decay_rate ** (i / decay_steps)\n",
        "\n",
        "    if i % display_every == 0:\n",
        "        F_c.eval()\n",
        "        F_f.eval()\n",
        "        with torch.no_grad():\n",
        "            (_, C_rs_f) = run_nerf(\n",
        "                test_ray_dir,\n",
        "                N_c,\n",
        "                t_i_c_bin_edges,\n",
        "                t_i_c_gap,\n",
        "                test_ray_origin,\n",
        "                chunk_size,\n",
        "                F_c,\n",
        "                N_f,\n",
        "                t_f,\n",
        "                F_f,\n",
        "            )\n",
        "\n",
        "        loss = criterion(C_rs_f, test_img)\n",
        "        print(f\"Loss: {loss.item()}\")\n",
        "        psnr = -10.0 * torch.log10(loss)\n",
        "\n",
        "        psnrs.append(psnr.item())\n",
        "        iternums.append(i)\n",
        "\n",
        "        plt.figure(figsize=(10, 4))\n",
        "        plt.subplot(121)\n",
        "        plt.imshow(C_rs_f.detach().cpu().numpy())\n",
        "        plt.title(f\"Iteration {i}\")\n",
        "        plt.subplot(122)\n",
        "        plt.plot(iternums, psnrs)\n",
        "        plt.title(\"PSNR\")\n",
        "        plt.show()\n",
        "\n",
        "        F_c.train()\n",
        "        F_f.train()\n"
      ]
    },
    {
      "cell_type": "code",
      "execution_count": null,
      "metadata": {
        "id": "hNNbMc9jBo-1"
      },
      "outputs": [],
      "source": []
    }
  ],
  "metadata": {
    "accelerator": "GPU",
    "colab": {
      "gpuType": "T4",
      "provenance": []
    },
    "kernelspec": {
      "display_name": "Python 3",
      "name": "python3"
    },
    "language_info": {
      "codemirror_mode": {
        "name": "ipython",
        "version": 3
      },
      "file_extension": ".py",
      "mimetype": "text/x-python",
      "name": "python",
      "nbconvert_exporter": "python",
      "pygments_lexer": "ipython3",
      "version": "3.8.18"
    }
  },
  "nbformat": 4,
  "nbformat_minor": 0
}
